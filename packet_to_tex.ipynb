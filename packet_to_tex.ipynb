{
 "cells": [
  {
   "cell_type": "code",
   "execution_count": 1,
   "metadata": {},
   "outputs": [],
   "source": [
    "import re"
   ]
  },
  {
   "cell_type": "code",
   "execution_count": 13,
   "metadata": {},
   "outputs": [],
   "source": [
    "myfile = open('./Packet1.txt')\n",
    "packet1 = myfile.readlines()\n",
    "myfile.close()\n",
    "testq = packet1[6]"
   ]
  },
  {
   "cell_type": "code",
   "execution_count": 15,
   "metadata": {},
   "outputs": [
    {
     "data": {
      "text/plain": [
       "[\"1. In one story written in this language, a sheep with no wool flees into the plain after having a conversation with some horses and lamenting that they are driven by men. A revised version of that text by Hermann Hirt included labialized and palatized velars, and later Douglas Q. Adams published a version of that story which incorporated the laryngeal theory of this language's phonology. That text in this language was first composed by linguist August \",\n",
       " ' Schleicher. Another story in this language was composed by Eric P. Hamp in an attempt to reconstruct the \"ancestor\" to a short passage from ancient Indian scriptures. Despite the fact that this language\\'s speakers, whose homeland is the subject of the Kurgan hypothesis, did not have a writing system, linguists have reconstructed it through the use of the comparative method. For 10 points, identify this language spoken between 3,000 and 6,000 years ago whose daughter languages are now spoken across Europe and India.\\n']"
      ]
     },
     "execution_count": 15,
     "metadata": {},
     "output_type": "execute_result"
    }
   ],
   "source": [
    "testq.split('(*)')"
   ]
  },
  {
   "cell_type": "code",
   "execution_count": 18,
   "metadata": {},
   "outputs": [
    {
     "data": {
      "text/plain": [
       "'\\textbf{1. In one story written in this language, a sheep with no wool flees into the plain after having a conversation with some horses and lamenting that they are driven by men. A revised version of that text by Hermann Hirt included labialized and palatized velars, and later Douglas Q. Adams published a version of that story which incorporated the laryngeal theory of this language\\'s phonology. That text in this language was first composed by linguist August (*)} Schleicher. Another story in this language was composed by Eric P. Hamp in an attempt to reconstruct the \"ancestor\" to a short passage from ancient Indian scriptures. Despite the fact that this language\\'s speakers, whose homeland is the subject of the Kurgan hypothesis, did not have a writing system, linguists have reconstructed it through the use of the comparative method. For 10 points, identify this language spoken between 3,000 and 6,000 years ago whose daughter languages are now spoken across Europe and India.\\n'"
      ]
     },
     "execution_count": 18,
     "metadata": {},
     "output_type": "execute_result"
    }
   ],
   "source": [
    "def power(text):\n",
    "    splits = text.split('(*)')\n",
    "    power_str = \"\\textbf{\" + splits[0] + '(*)}' + splits[1]\n",
    "    return power_str\n",
    "power(testq)"
   ]
  },
  {
   "cell_type": "code",
   "execution_count": 20,
   "metadata": {},
   "outputs": [],
   "source": [
    "mystr = 'Hello this is how to pronounce Camus (Cah-moo) and Sartre (Sar-truh)'"
   ]
  },
  {
   "cell_type": "code",
   "execution_count": 25,
   "metadata": {},
   "outputs": [
    {
     "data": {
      "text/plain": [
       "'Hello this is how to pronounce Camus \\textbf{(Cah-moo)} and Sartre \\textbf{(Sar-truh)}'"
      ]
     },
     "execution_count": 25,
     "metadata": {},
     "output_type": "execute_result"
    }
   ],
   "source": [
    "def bold_pg(text):\n",
    "    temp = text.replace('(', '\\textbf{(')\n",
    "    temp = temp.replace(')', ')}')\n",
    "    return temp\n",
    "bold_pg(mystr)"
   ]
  },
  {
   "cell_type": "code",
   "execution_count": 215,
   "metadata": {},
   "outputs": [],
   "source": [
    "mytitle = 'My favorite book is ~Of Mice and Men~ by john'"
   ]
  },
  {
   "cell_type": "code",
   "execution_count": 220,
   "metadata": {},
   "outputs": [
    {
     "data": {
      "text/plain": [
       "'My favorite book is ~\\\\emph{Of Mice and Men}~ by john'"
      ]
     },
     "execution_count": 220,
     "metadata": {},
     "output_type": "execute_result"
    }
   ],
   "source": [
    "regex = r'(?<=\\~)(.*)(?=\\~)'\n",
    "pattern = r\"+emph{\\1}\"\n",
    "def italicize(text, regex = regex, pattern = pattern):\n",
    "    temp = re.sub(regex, pattern, text).strip(\"~\")\n",
    "    \n",
    "    return temp\n",
    "italicize(mytitle).replace(\"+\",r\"\\\")"
   ]
  },
  {
   "cell_type": "code",
   "execution_count": 200,
   "metadata": {},
   "outputs": [],
   "source": [
    "answer = 'ANSWER: _B_enjamin _Harrison_'\n",
    "regex = r'(?<=\\_)(.*)(?=\\_)'\n",
    "pattern = r\"\\textbf{\\1}\""
   ]
  },
  {
   "cell_type": "code",
   "execution_count": 201,
   "metadata": {},
   "outputs": [
    {
     "data": {
      "text/plain": [
       "'ANSWER: \\textbf{B}_enjamin \\textbf{Harrison}'"
      ]
     },
     "execution_count": 201,
     "metadata": {},
     "output_type": "execute_result"
    }
   ],
   "source": [
    "def answer_bold_u(text, regex = regex, pattern = pattern):\n",
    "    tokens = text.split()\n",
    "    cleaned_list = [re.sub(regex, pattern, t).strip(\"_\") for t in tokens] #each word in the answerline\n",
    "    return \" \".join(cleaned_list)\n",
    "cleaned = answer_bold_u(answer)\n",
    "cleaned"
   ]
  },
  {
   "cell_type": "code",
   "execution_count": 173,
   "metadata": {},
   "outputs": [
    {
     "data": {
      "text/plain": [
       "'ANSWER: \\textbf{\\\\underline{B}}_enjamin \\textbf{\\\\underline{Harrison}}'"
      ]
     },
     "execution_count": 173,
     "metadata": {},
     "output_type": "execute_result"
    }
   ],
   "source": [
    "cleaned.replace('Ü', 'u')"
   ]
  },
  {
   "cell_type": "code",
   "execution_count": 192,
   "metadata": {},
   "outputs": [
    {
     "ename": "SyntaxError",
     "evalue": "(unicode error) 'unicodeescape' codec can't decode bytes in position 0-1: truncated \\uXXXX escape (<ipython-input-192-2c5692788334>, line 1)",
     "output_type": "error",
     "traceback": [
      "\u001b[0;36m  File \u001b[0;32m\"<ipython-input-192-2c5692788334>\"\u001b[0;36m, line \u001b[0;32m1\u001b[0m\n\u001b[0;31m    r'\\textbf{' + '\\underline{}'\u001b[0m\n\u001b[0m                 ^\u001b[0m\n\u001b[0;31mSyntaxError\u001b[0m\u001b[0;31m:\u001b[0m (unicode error) 'unicodeescape' codec can't decode bytes in position 0-1: truncated \\uXXXX escape\n"
     ]
    }
   ],
   "source": [
    "r'\\textbf{' + '\\underline{}'"
   ]
  },
  {
   "cell_type": "code",
   "execution_count": null,
   "metadata": {},
   "outputs": [],
   "source": []
  },
  {
   "cell_type": "code",
   "execution_count": null,
   "metadata": {},
   "outputs": [],
   "source": []
  }
 ],
 "metadata": {
  "kernelspec": {
   "display_name": "Python 3",
   "language": "python",
   "name": "python3"
  },
  "language_info": {
   "codemirror_mode": {
    "name": "ipython",
    "version": 3
   },
   "file_extension": ".py",
   "mimetype": "text/x-python",
   "name": "python",
   "nbconvert_exporter": "python",
   "pygments_lexer": "ipython3",
   "version": "3.7.1"
  }
 },
 "nbformat": 4,
 "nbformat_minor": 2
}
